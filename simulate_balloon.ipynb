{
 "cells": [
  {
   "cell_type": "code",
   "execution_count": 12,
   "id": "d7135cfd-e7a1-4f06-97de-0cc1a103cb81",
   "metadata": {},
   "outputs": [],
   "source": [
    "import os, scipy\n",
    "from ballon import balloonWindkessel\n",
    "import nibabel as nib\n",
    "from scipy.optimize import minimize\n",
    "import matplotlib.pyplot as plt"
   ]
  },
  {
   "cell_type": "code",
   "execution_count": 7,
   "id": "381ec9a8-ee20-4c4e-b861-0c383c9ca7ba",
   "metadata": {},
   "outputs": [],
   "source": [
    "x0 = [0.32, 0.65, 0.41, 0.98, 0.34, 0.02]"
   ]
  },
  {
   "cell_type": "code",
   "execution_count": 20,
   "id": "5c1b6738-ecf1-4f4a-ade7-1851e1415f4d",
   "metadata": {},
   "outputs": [],
   "source": [
    "img = nib.load('data/sub-08/func/swarsub-08_task-flanker_run-1_bold.nii')\n",
    "img_data = img.get_fdata()"
   ]
  },
  {
   "cell_type": "code",
   "execution_count": 1,
   "id": "552ca00c-789d-4813-bcaf-c6934a13e957",
   "metadata": {},
   "outputs": [],
   "source": [
    "def show_slices(slices):\n",
    "   \"\"\" Function to display row of image slices \"\"\"\n",
    "   fig, axes = plt.subplots(1, len(slices))\n",
    "   for i, slice in enumerate(slices):\n",
    "       axes[i].imshow(slice.T, cmap=\"gray\", origin=\"lower\")"
   ]
  },
  {
   "cell_type": "code",
   "execution_count": 49,
   "id": "d4d9f65e-3050-4aae-965c-5e30b1cab2be",
   "metadata": {},
   "outputs": [],
   "source": [
    "slice_0 = img_data[:, :, 35, :]\n",
    "slice_1 = img_data[:, 30, :, 1]\n",
    "slice_2 = img_data[:, :, 16, 1]"
   ]
  },
  {
   "cell_type": "code",
   "execution_count": 52,
   "id": "b19d7041-92d7-4526-9a94-3c35cbc49870",
   "metadata": {},
   "outputs": [
    {
     "data": {
      "text/plain": [
       "(79, 95, 146)"
      ]
     },
     "execution_count": 52,
     "metadata": {},
     "output_type": "execute_result"
    }
   ],
   "source": [
    "slice_0.shape"
   ]
  },
  {
   "cell_type": "code",
   "execution_count": null,
   "id": "5e14c116-b1b9-4120-9952-2e97bd988785",
   "metadata": {},
   "outputs": [],
   "source": []
  }
 ],
 "metadata": {
  "kernelspec": {
   "display_name": "Python 3 (ipykernel)",
   "language": "python",
   "name": "python3"
  },
  "language_info": {
   "codemirror_mode": {
    "name": "ipython",
    "version": 3
   },
   "file_extension": ".py",
   "mimetype": "text/x-python",
   "name": "python",
   "nbconvert_exporter": "python",
   "pygments_lexer": "ipython3",
   "version": "3.9.7"
  }
 },
 "nbformat": 4,
 "nbformat_minor": 5
}
